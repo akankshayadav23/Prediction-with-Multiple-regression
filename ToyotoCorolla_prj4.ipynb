{
 "cells": [
  {
   "cell_type": "markdown",
   "id": "348d8c7c",
   "metadata": {},
   "source": [
    "# Multiple Linear Regression model"
   ]
  },
  {
   "cell_type": "markdown",
   "id": "b9d26155",
   "metadata": {},
   "source": [
    "dataset is of ToyotaCorolla car models with different specifications "
   ]
  },
  {
   "cell_type": "markdown",
   "id": "4770e449",
   "metadata": {},
   "source": [
    "# objective - to find a better prediction of Price"
   ]
  },
  {
   "cell_type": "code",
   "execution_count": 2,
   "id": "de8c3baa",
   "metadata": {},
   "outputs": [],
   "source": [
    "## importing the libraries\n",
    "import pandas as pd\n",
    "import numpy as np\n",
    "import matplotlib.pyplot as plt\n",
    "import seaborn as sns\n",
    "from sklearn.linear_model import LinearRegression\n",
    "from sklearn.model_selection import train_test_split"
   ]
  },
  {
   "cell_type": "markdown",
   "id": "f651d6c8",
   "metadata": {},
   "source": [
    "# loading the dataset"
   ]
  },
  {
   "cell_type": "code",
   "execution_count": null,
   "id": "5e5efbc7",
   "metadata": {},
   "outputs": [],
   "source": [
    "# loading the dataset\n",
    "\n",
    "def read_data():\n",
    "    data = pd.read_csv(\"C:/Users/admin/Downloads/Telegram Desktop/ToyotaCorolla1.csv\")\n",
    "    return data"
   ]
  },
  {
   "cell_type": "code",
   "execution_count": 27,
   "id": "8ca29fd0",
   "metadata": {
    "collapsed": true
   },
   "outputs": [
    {
     "name": "stdout",
     "output_type": "stream",
     "text": [
      "      Price  Age_08_04     KM   HP    cc  Doors  Gears  Quarterly_Tax  Weight\n",
      "0     13500         23  46986   90  2000      3      5            210    1165\n",
      "1     13750         23  72937   90  2000      3      5            210    1165\n",
      "2     13950         24  41711   90  2000      3      5            210    1165\n",
      "3     14950         26  48000   90  2000      3      5            210    1165\n",
      "4     13750         30  38500   90  2000      3      5            210    1170\n",
      "...     ...        ...    ...  ...   ...    ...    ...            ...     ...\n",
      "1431   7500         69  20544   86  1300      3      5             69    1025\n",
      "1432  10845         72  19000   86  1300      3      5             69    1015\n",
      "1433   8500         71  17016   86  1300      3      5             69    1015\n",
      "1434   7250         70  16916   86  1300      3      5             69    1015\n",
      "1435   6950         76      1  110  1600      5      5             19    1114\n",
      "\n",
      "[1436 rows x 9 columns]\n"
     ]
    }
   ],
   "source": [
    "data = read_data()\n",
    "print(data)"
   ]
  },
  {
   "cell_type": "markdown",
   "id": "d1ff5229",
   "metadata": {},
   "source": [
    "##copying the data\n",
    "df = data.copy()\n",
    "df"
   ]
  },
  {
   "cell_type": "code",
   "execution_count": 16,
   "id": "465d29a3",
   "metadata": {
    "collapsed": true
   },
   "outputs": [
    {
     "data": {
      "text/html": [
       "<div>\n",
       "<style scoped>\n",
       "    .dataframe tbody tr th:only-of-type {\n",
       "        vertical-align: middle;\n",
       "    }\n",
       "\n",
       "    .dataframe tbody tr th {\n",
       "        vertical-align: top;\n",
       "    }\n",
       "\n",
       "    .dataframe thead th {\n",
       "        text-align: right;\n",
       "    }\n",
       "</style>\n",
       "<table border=\"1\" class=\"dataframe\">\n",
       "  <thead>\n",
       "    <tr style=\"text-align: right;\">\n",
       "      <th></th>\n",
       "      <th>Price</th>\n",
       "      <th>Age_08_04</th>\n",
       "      <th>KM</th>\n",
       "      <th>HP</th>\n",
       "      <th>cc</th>\n",
       "      <th>Doors</th>\n",
       "      <th>Gears</th>\n",
       "      <th>Quarterly_Tax</th>\n",
       "      <th>Weight</th>\n",
       "    </tr>\n",
       "  </thead>\n",
       "  <tbody>\n",
       "    <tr>\n",
       "      <th>count</th>\n",
       "      <td>1436.000000</td>\n",
       "      <td>1436.000000</td>\n",
       "      <td>1436.000000</td>\n",
       "      <td>1436.000000</td>\n",
       "      <td>1436.00000</td>\n",
       "      <td>1436.000000</td>\n",
       "      <td>1436.000000</td>\n",
       "      <td>1436.000000</td>\n",
       "      <td>1436.00000</td>\n",
       "    </tr>\n",
       "    <tr>\n",
       "      <th>mean</th>\n",
       "      <td>10730.824513</td>\n",
       "      <td>55.947075</td>\n",
       "      <td>68533.259749</td>\n",
       "      <td>101.502089</td>\n",
       "      <td>1576.85585</td>\n",
       "      <td>4.033426</td>\n",
       "      <td>5.026462</td>\n",
       "      <td>87.122563</td>\n",
       "      <td>1072.45961</td>\n",
       "    </tr>\n",
       "    <tr>\n",
       "      <th>std</th>\n",
       "      <td>3626.964585</td>\n",
       "      <td>18.599988</td>\n",
       "      <td>37506.448872</td>\n",
       "      <td>14.981080</td>\n",
       "      <td>424.38677</td>\n",
       "      <td>0.952677</td>\n",
       "      <td>0.188510</td>\n",
       "      <td>41.128611</td>\n",
       "      <td>52.64112</td>\n",
       "    </tr>\n",
       "    <tr>\n",
       "      <th>min</th>\n",
       "      <td>4350.000000</td>\n",
       "      <td>1.000000</td>\n",
       "      <td>1.000000</td>\n",
       "      <td>69.000000</td>\n",
       "      <td>1300.00000</td>\n",
       "      <td>2.000000</td>\n",
       "      <td>3.000000</td>\n",
       "      <td>19.000000</td>\n",
       "      <td>1000.00000</td>\n",
       "    </tr>\n",
       "    <tr>\n",
       "      <th>25%</th>\n",
       "      <td>8450.000000</td>\n",
       "      <td>44.000000</td>\n",
       "      <td>43000.000000</td>\n",
       "      <td>90.000000</td>\n",
       "      <td>1400.00000</td>\n",
       "      <td>3.000000</td>\n",
       "      <td>5.000000</td>\n",
       "      <td>69.000000</td>\n",
       "      <td>1040.00000</td>\n",
       "    </tr>\n",
       "    <tr>\n",
       "      <th>50%</th>\n",
       "      <td>9900.000000</td>\n",
       "      <td>61.000000</td>\n",
       "      <td>63389.500000</td>\n",
       "      <td>110.000000</td>\n",
       "      <td>1600.00000</td>\n",
       "      <td>4.000000</td>\n",
       "      <td>5.000000</td>\n",
       "      <td>85.000000</td>\n",
       "      <td>1070.00000</td>\n",
       "    </tr>\n",
       "    <tr>\n",
       "      <th>75%</th>\n",
       "      <td>11950.000000</td>\n",
       "      <td>70.000000</td>\n",
       "      <td>87020.750000</td>\n",
       "      <td>110.000000</td>\n",
       "      <td>1600.00000</td>\n",
       "      <td>5.000000</td>\n",
       "      <td>5.000000</td>\n",
       "      <td>85.000000</td>\n",
       "      <td>1085.00000</td>\n",
       "    </tr>\n",
       "    <tr>\n",
       "      <th>max</th>\n",
       "      <td>32500.000000</td>\n",
       "      <td>80.000000</td>\n",
       "      <td>243000.000000</td>\n",
       "      <td>192.000000</td>\n",
       "      <td>16000.00000</td>\n",
       "      <td>5.000000</td>\n",
       "      <td>6.000000</td>\n",
       "      <td>283.000000</td>\n",
       "      <td>1615.00000</td>\n",
       "    </tr>\n",
       "  </tbody>\n",
       "</table>\n",
       "</div>"
      ],
      "text/plain": [
       "              Price    Age_08_04             KM           HP           cc  \\\n",
       "count   1436.000000  1436.000000    1436.000000  1436.000000   1436.00000   \n",
       "mean   10730.824513    55.947075   68533.259749   101.502089   1576.85585   \n",
       "std     3626.964585    18.599988   37506.448872    14.981080    424.38677   \n",
       "min     4350.000000     1.000000       1.000000    69.000000   1300.00000   \n",
       "25%     8450.000000    44.000000   43000.000000    90.000000   1400.00000   \n",
       "50%     9900.000000    61.000000   63389.500000   110.000000   1600.00000   \n",
       "75%    11950.000000    70.000000   87020.750000   110.000000   1600.00000   \n",
       "max    32500.000000    80.000000  243000.000000   192.000000  16000.00000   \n",
       "\n",
       "             Doors        Gears  Quarterly_Tax      Weight  \n",
       "count  1436.000000  1436.000000    1436.000000  1436.00000  \n",
       "mean      4.033426     5.026462      87.122563  1072.45961  \n",
       "std       0.952677     0.188510      41.128611    52.64112  \n",
       "min       2.000000     3.000000      19.000000  1000.00000  \n",
       "25%       3.000000     5.000000      69.000000  1040.00000  \n",
       "50%       4.000000     5.000000      85.000000  1070.00000  \n",
       "75%       5.000000     5.000000      85.000000  1085.00000  \n",
       "max       5.000000     6.000000     283.000000  1615.00000  "
      ]
     },
     "execution_count": 16,
     "metadata": {},
     "output_type": "execute_result"
    }
   ],
   "source": [
    "##getting the overview of the dataset\n",
    "df.describe()\n"
   ]
  },
  {
   "cell_type": "code",
   "execution_count": 28,
   "id": "0c9d7d95",
   "metadata": {},
   "outputs": [
    {
     "data": {
      "text/html": [
       "<div>\n",
       "<style scoped>\n",
       "    .dataframe tbody tr th:only-of-type {\n",
       "        vertical-align: middle;\n",
       "    }\n",
       "\n",
       "    .dataframe tbody tr th {\n",
       "        vertical-align: top;\n",
       "    }\n",
       "\n",
       "    .dataframe thead th {\n",
       "        text-align: right;\n",
       "    }\n",
       "</style>\n",
       "<table border=\"1\" class=\"dataframe\">\n",
       "  <thead>\n",
       "    <tr style=\"text-align: right;\">\n",
       "      <th></th>\n",
       "      <th>Price</th>\n",
       "      <th>Age_08_04</th>\n",
       "      <th>KM</th>\n",
       "      <th>HP</th>\n",
       "      <th>cc</th>\n",
       "      <th>Doors</th>\n",
       "      <th>Gears</th>\n",
       "      <th>Quarterly_Tax</th>\n",
       "      <th>Weight</th>\n",
       "    </tr>\n",
       "  </thead>\n",
       "  <tbody>\n",
       "    <tr>\n",
       "      <th>0</th>\n",
       "      <td>13500</td>\n",
       "      <td>23</td>\n",
       "      <td>46986</td>\n",
       "      <td>90</td>\n",
       "      <td>2000</td>\n",
       "      <td>3</td>\n",
       "      <td>5</td>\n",
       "      <td>210</td>\n",
       "      <td>1165</td>\n",
       "    </tr>\n",
       "    <tr>\n",
       "      <th>1</th>\n",
       "      <td>13750</td>\n",
       "      <td>23</td>\n",
       "      <td>72937</td>\n",
       "      <td>90</td>\n",
       "      <td>2000</td>\n",
       "      <td>3</td>\n",
       "      <td>5</td>\n",
       "      <td>210</td>\n",
       "      <td>1165</td>\n",
       "    </tr>\n",
       "    <tr>\n",
       "      <th>2</th>\n",
       "      <td>13950</td>\n",
       "      <td>24</td>\n",
       "      <td>41711</td>\n",
       "      <td>90</td>\n",
       "      <td>2000</td>\n",
       "      <td>3</td>\n",
       "      <td>5</td>\n",
       "      <td>210</td>\n",
       "      <td>1165</td>\n",
       "    </tr>\n",
       "    <tr>\n",
       "      <th>3</th>\n",
       "      <td>14950</td>\n",
       "      <td>26</td>\n",
       "      <td>48000</td>\n",
       "      <td>90</td>\n",
       "      <td>2000</td>\n",
       "      <td>3</td>\n",
       "      <td>5</td>\n",
       "      <td>210</td>\n",
       "      <td>1165</td>\n",
       "    </tr>\n",
       "    <tr>\n",
       "      <th>4</th>\n",
       "      <td>13750</td>\n",
       "      <td>30</td>\n",
       "      <td>38500</td>\n",
       "      <td>90</td>\n",
       "      <td>2000</td>\n",
       "      <td>3</td>\n",
       "      <td>5</td>\n",
       "      <td>210</td>\n",
       "      <td>1170</td>\n",
       "    </tr>\n",
       "    <tr>\n",
       "      <th>5</th>\n",
       "      <td>12950</td>\n",
       "      <td>32</td>\n",
       "      <td>61000</td>\n",
       "      <td>90</td>\n",
       "      <td>2000</td>\n",
       "      <td>3</td>\n",
       "      <td>5</td>\n",
       "      <td>210</td>\n",
       "      <td>1170</td>\n",
       "    </tr>\n",
       "    <tr>\n",
       "      <th>6</th>\n",
       "      <td>16900</td>\n",
       "      <td>27</td>\n",
       "      <td>94612</td>\n",
       "      <td>90</td>\n",
       "      <td>2000</td>\n",
       "      <td>3</td>\n",
       "      <td>5</td>\n",
       "      <td>210</td>\n",
       "      <td>1245</td>\n",
       "    </tr>\n",
       "    <tr>\n",
       "      <th>7</th>\n",
       "      <td>18600</td>\n",
       "      <td>30</td>\n",
       "      <td>75889</td>\n",
       "      <td>90</td>\n",
       "      <td>2000</td>\n",
       "      <td>3</td>\n",
       "      <td>5</td>\n",
       "      <td>210</td>\n",
       "      <td>1245</td>\n",
       "    </tr>\n",
       "    <tr>\n",
       "      <th>8</th>\n",
       "      <td>21500</td>\n",
       "      <td>27</td>\n",
       "      <td>19700</td>\n",
       "      <td>192</td>\n",
       "      <td>1800</td>\n",
       "      <td>3</td>\n",
       "      <td>5</td>\n",
       "      <td>100</td>\n",
       "      <td>1185</td>\n",
       "    </tr>\n",
       "    <tr>\n",
       "      <th>9</th>\n",
       "      <td>12950</td>\n",
       "      <td>23</td>\n",
       "      <td>71138</td>\n",
       "      <td>69</td>\n",
       "      <td>1900</td>\n",
       "      <td>3</td>\n",
       "      <td>5</td>\n",
       "      <td>185</td>\n",
       "      <td>1105</td>\n",
       "    </tr>\n",
       "  </tbody>\n",
       "</table>\n",
       "</div>"
      ],
      "text/plain": [
       "   Price  Age_08_04     KM   HP    cc  Doors  Gears  Quarterly_Tax  Weight\n",
       "0  13500         23  46986   90  2000      3      5            210    1165\n",
       "1  13750         23  72937   90  2000      3      5            210    1165\n",
       "2  13950         24  41711   90  2000      3      5            210    1165\n",
       "3  14950         26  48000   90  2000      3      5            210    1165\n",
       "4  13750         30  38500   90  2000      3      5            210    1170\n",
       "5  12950         32  61000   90  2000      3      5            210    1170\n",
       "6  16900         27  94612   90  2000      3      5            210    1245\n",
       "7  18600         30  75889   90  2000      3      5            210    1245\n",
       "8  21500         27  19700  192  1800      3      5            100    1185\n",
       "9  12950         23  71138   69  1900      3      5            185    1105"
      ]
     },
     "execution_count": 28,
     "metadata": {},
     "output_type": "execute_result"
    }
   ],
   "source": [
    "df.head(10)\n",
    "#As we can see that no column has string value. all are numeric that we want"
   ]
  },
  {
   "cell_type": "code",
   "execution_count": 25,
   "id": "23e20fea",
   "metadata": {},
   "outputs": [
    {
     "data": {
      "text/plain": [
       "(1436, 9)"
      ]
     },
     "execution_count": 25,
     "metadata": {},
     "output_type": "execute_result"
    }
   ],
   "source": [
    "# describing total number of rows nd columns in the dataset\n",
    "df.shape"
   ]
  },
  {
   "cell_type": "code",
   "execution_count": 26,
   "id": "eed93ae8",
   "metadata": {
    "collapsed": true
   },
   "outputs": [
    {
     "data": {
      "text/plain": [
       "Price            0\n",
       "Age_08_04        0\n",
       "KM               0\n",
       "HP               0\n",
       "cc               0\n",
       "Doors            0\n",
       "Gears            0\n",
       "Quarterly_Tax    0\n",
       "Weight           0\n",
       "dtype: int64"
      ]
     },
     "execution_count": 26,
     "metadata": {},
     "output_type": "execute_result"
    }
   ],
   "source": [
    "## checking if any null values are there\n",
    "df.isnull().sum()\n",
    "#dataset has no null values "
   ]
  },
  {
   "cell_type": "markdown",
   "id": "83f3184d",
   "metadata": {},
   "source": [
    "# Sampling the Data"
   ]
  },
  {
   "cell_type": "code",
   "execution_count": 29,
   "id": "436b59a4",
   "metadata": {
    "collapsed": true
   },
   "outputs": [
    {
     "data": {
      "text/html": [
       "<div>\n",
       "<style scoped>\n",
       "    .dataframe tbody tr th:only-of-type {\n",
       "        vertical-align: middle;\n",
       "    }\n",
       "\n",
       "    .dataframe tbody tr th {\n",
       "        vertical-align: top;\n",
       "    }\n",
       "\n",
       "    .dataframe thead th {\n",
       "        text-align: right;\n",
       "    }\n",
       "</style>\n",
       "<table border=\"1\" class=\"dataframe\">\n",
       "  <thead>\n",
       "    <tr style=\"text-align: right;\">\n",
       "      <th></th>\n",
       "      <th>Age_08_04</th>\n",
       "      <th>KM</th>\n",
       "      <th>HP</th>\n",
       "      <th>cc</th>\n",
       "      <th>Doors</th>\n",
       "      <th>Gears</th>\n",
       "      <th>Quarterly_Tax</th>\n",
       "      <th>Weight</th>\n",
       "    </tr>\n",
       "  </thead>\n",
       "  <tbody>\n",
       "    <tr>\n",
       "      <th>0</th>\n",
       "      <td>23</td>\n",
       "      <td>46986</td>\n",
       "      <td>90</td>\n",
       "      <td>2000</td>\n",
       "      <td>3</td>\n",
       "      <td>5</td>\n",
       "      <td>210</td>\n",
       "      <td>1165</td>\n",
       "    </tr>\n",
       "    <tr>\n",
       "      <th>1</th>\n",
       "      <td>23</td>\n",
       "      <td>72937</td>\n",
       "      <td>90</td>\n",
       "      <td>2000</td>\n",
       "      <td>3</td>\n",
       "      <td>5</td>\n",
       "      <td>210</td>\n",
       "      <td>1165</td>\n",
       "    </tr>\n",
       "    <tr>\n",
       "      <th>2</th>\n",
       "      <td>24</td>\n",
       "      <td>41711</td>\n",
       "      <td>90</td>\n",
       "      <td>2000</td>\n",
       "      <td>3</td>\n",
       "      <td>5</td>\n",
       "      <td>210</td>\n",
       "      <td>1165</td>\n",
       "    </tr>\n",
       "    <tr>\n",
       "      <th>3</th>\n",
       "      <td>26</td>\n",
       "      <td>48000</td>\n",
       "      <td>90</td>\n",
       "      <td>2000</td>\n",
       "      <td>3</td>\n",
       "      <td>5</td>\n",
       "      <td>210</td>\n",
       "      <td>1165</td>\n",
       "    </tr>\n",
       "    <tr>\n",
       "      <th>4</th>\n",
       "      <td>30</td>\n",
       "      <td>38500</td>\n",
       "      <td>90</td>\n",
       "      <td>2000</td>\n",
       "      <td>3</td>\n",
       "      <td>5</td>\n",
       "      <td>210</td>\n",
       "      <td>1170</td>\n",
       "    </tr>\n",
       "    <tr>\n",
       "      <th>...</th>\n",
       "      <td>...</td>\n",
       "      <td>...</td>\n",
       "      <td>...</td>\n",
       "      <td>...</td>\n",
       "      <td>...</td>\n",
       "      <td>...</td>\n",
       "      <td>...</td>\n",
       "      <td>...</td>\n",
       "    </tr>\n",
       "    <tr>\n",
       "      <th>1431</th>\n",
       "      <td>69</td>\n",
       "      <td>20544</td>\n",
       "      <td>86</td>\n",
       "      <td>1300</td>\n",
       "      <td>3</td>\n",
       "      <td>5</td>\n",
       "      <td>69</td>\n",
       "      <td>1025</td>\n",
       "    </tr>\n",
       "    <tr>\n",
       "      <th>1432</th>\n",
       "      <td>72</td>\n",
       "      <td>19000</td>\n",
       "      <td>86</td>\n",
       "      <td>1300</td>\n",
       "      <td>3</td>\n",
       "      <td>5</td>\n",
       "      <td>69</td>\n",
       "      <td>1015</td>\n",
       "    </tr>\n",
       "    <tr>\n",
       "      <th>1433</th>\n",
       "      <td>71</td>\n",
       "      <td>17016</td>\n",
       "      <td>86</td>\n",
       "      <td>1300</td>\n",
       "      <td>3</td>\n",
       "      <td>5</td>\n",
       "      <td>69</td>\n",
       "      <td>1015</td>\n",
       "    </tr>\n",
       "    <tr>\n",
       "      <th>1434</th>\n",
       "      <td>70</td>\n",
       "      <td>16916</td>\n",
       "      <td>86</td>\n",
       "      <td>1300</td>\n",
       "      <td>3</td>\n",
       "      <td>5</td>\n",
       "      <td>69</td>\n",
       "      <td>1015</td>\n",
       "    </tr>\n",
       "    <tr>\n",
       "      <th>1435</th>\n",
       "      <td>76</td>\n",
       "      <td>1</td>\n",
       "      <td>110</td>\n",
       "      <td>1600</td>\n",
       "      <td>5</td>\n",
       "      <td>5</td>\n",
       "      <td>19</td>\n",
       "      <td>1114</td>\n",
       "    </tr>\n",
       "  </tbody>\n",
       "</table>\n",
       "<p>1436 rows × 8 columns</p>\n",
       "</div>"
      ],
      "text/plain": [
       "      Age_08_04     KM   HP    cc  Doors  Gears  Quarterly_Tax  Weight\n",
       "0            23  46986   90  2000      3      5            210    1165\n",
       "1            23  72937   90  2000      3      5            210    1165\n",
       "2            24  41711   90  2000      3      5            210    1165\n",
       "3            26  48000   90  2000      3      5            210    1165\n",
       "4            30  38500   90  2000      3      5            210    1170\n",
       "...         ...    ...  ...   ...    ...    ...            ...     ...\n",
       "1431         69  20544   86  1300      3      5             69    1025\n",
       "1432         72  19000   86  1300      3      5             69    1015\n",
       "1433         71  17016   86  1300      3      5             69    1015\n",
       "1434         70  16916   86  1300      3      5             69    1015\n",
       "1435         76      1  110  1600      5      5             19    1114\n",
       "\n",
       "[1436 rows x 8 columns]"
      ]
     },
     "execution_count": 29,
     "metadata": {},
     "output_type": "execute_result"
    }
   ],
   "source": [
    "## Defining the X and y\n",
    "X = df.drop(columns = 'Price')\n",
    "X"
   ]
  },
  {
   "cell_type": "code",
   "execution_count": 30,
   "id": "9a8b523a",
   "metadata": {
    "collapsed": true
   },
   "outputs": [
    {
     "data": {
      "text/plain": [
       "0       13500\n",
       "1       13750\n",
       "2       13950\n",
       "3       14950\n",
       "4       13750\n",
       "        ...  \n",
       "1431     7500\n",
       "1432    10845\n",
       "1433     8500\n",
       "1434     7250\n",
       "1435     6950\n",
       "Name: Price, Length: 1436, dtype: int64"
      ]
     },
     "execution_count": 30,
     "metadata": {},
     "output_type": "execute_result"
    }
   ],
   "source": [
    "y = df['Price']\n",
    "y"
   ]
  },
  {
   "cell_type": "markdown",
   "id": "c8fa3d9e",
   "metadata": {},
   "source": [
    "# Spliting the Data into Training set and Test set"
   ]
  },
  {
   "cell_type": "code",
   "execution_count": 32,
   "id": "ec4fded9",
   "metadata": {},
   "outputs": [],
   "source": [
    "##using scikit learn library for spliting the data\n",
    "from sklearn.model_selection import train_test_split\n",
    "# TAKING THE TEST SIZE 30% OF THE DATASET\n",
    "X_train,X_test,y_train,y_test = train_test_split(X,y,test_size = 0.3,random_state = 23)"
   ]
  },
  {
   "cell_type": "markdown",
   "id": "db22cd58",
   "metadata": {},
   "source": [
    "# Train the model on the training set"
   ]
  },
  {
   "cell_type": "code",
   "execution_count": 34,
   "id": "bcc4a95b",
   "metadata": {},
   "outputs": [
    {
     "data": {
      "text/html": [
       "<style>#sk-container-id-1 {color: black;background-color: white;}#sk-container-id-1 pre{padding: 0;}#sk-container-id-1 div.sk-toggleable {background-color: white;}#sk-container-id-1 label.sk-toggleable__label {cursor: pointer;display: block;width: 100%;margin-bottom: 0;padding: 0.3em;box-sizing: border-box;text-align: center;}#sk-container-id-1 label.sk-toggleable__label-arrow:before {content: \"▸\";float: left;margin-right: 0.25em;color: #696969;}#sk-container-id-1 label.sk-toggleable__label-arrow:hover:before {color: black;}#sk-container-id-1 div.sk-estimator:hover label.sk-toggleable__label-arrow:before {color: black;}#sk-container-id-1 div.sk-toggleable__content {max-height: 0;max-width: 0;overflow: hidden;text-align: left;background-color: #f0f8ff;}#sk-container-id-1 div.sk-toggleable__content pre {margin: 0.2em;color: black;border-radius: 0.25em;background-color: #f0f8ff;}#sk-container-id-1 input.sk-toggleable__control:checked~div.sk-toggleable__content {max-height: 200px;max-width: 100%;overflow: auto;}#sk-container-id-1 input.sk-toggleable__control:checked~label.sk-toggleable__label-arrow:before {content: \"▾\";}#sk-container-id-1 div.sk-estimator input.sk-toggleable__control:checked~label.sk-toggleable__label {background-color: #d4ebff;}#sk-container-id-1 div.sk-label input.sk-toggleable__control:checked~label.sk-toggleable__label {background-color: #d4ebff;}#sk-container-id-1 input.sk-hidden--visually {border: 0;clip: rect(1px 1px 1px 1px);clip: rect(1px, 1px, 1px, 1px);height: 1px;margin: -1px;overflow: hidden;padding: 0;position: absolute;width: 1px;}#sk-container-id-1 div.sk-estimator {font-family: monospace;background-color: #f0f8ff;border: 1px dotted black;border-radius: 0.25em;box-sizing: border-box;margin-bottom: 0.5em;}#sk-container-id-1 div.sk-estimator:hover {background-color: #d4ebff;}#sk-container-id-1 div.sk-parallel-item::after {content: \"\";width: 100%;border-bottom: 1px solid gray;flex-grow: 1;}#sk-container-id-1 div.sk-label:hover label.sk-toggleable__label {background-color: #d4ebff;}#sk-container-id-1 div.sk-serial::before {content: \"\";position: absolute;border-left: 1px solid gray;box-sizing: border-box;top: 0;bottom: 0;left: 50%;z-index: 0;}#sk-container-id-1 div.sk-serial {display: flex;flex-direction: column;align-items: center;background-color: white;padding-right: 0.2em;padding-left: 0.2em;position: relative;}#sk-container-id-1 div.sk-item {position: relative;z-index: 1;}#sk-container-id-1 div.sk-parallel {display: flex;align-items: stretch;justify-content: center;background-color: white;position: relative;}#sk-container-id-1 div.sk-item::before, #sk-container-id-1 div.sk-parallel-item::before {content: \"\";position: absolute;border-left: 1px solid gray;box-sizing: border-box;top: 0;bottom: 0;left: 50%;z-index: -1;}#sk-container-id-1 div.sk-parallel-item {display: flex;flex-direction: column;z-index: 1;position: relative;background-color: white;}#sk-container-id-1 div.sk-parallel-item:first-child::after {align-self: flex-end;width: 50%;}#sk-container-id-1 div.sk-parallel-item:last-child::after {align-self: flex-start;width: 50%;}#sk-container-id-1 div.sk-parallel-item:only-child::after {width: 0;}#sk-container-id-1 div.sk-dashed-wrapped {border: 1px dashed gray;margin: 0 0.4em 0.5em 0.4em;box-sizing: border-box;padding-bottom: 0.4em;background-color: white;}#sk-container-id-1 div.sk-label label {font-family: monospace;font-weight: bold;display: inline-block;line-height: 1.2em;}#sk-container-id-1 div.sk-label-container {text-align: center;}#sk-container-id-1 div.sk-container {/* jupyter's `normalize.less` sets `[hidden] { display: none; }` but bootstrap.min.css set `[hidden] { display: none !important; }` so we also need the `!important` here to be able to override the default hidden behavior on the sphinx rendered scikit-learn.org. See: https://github.com/scikit-learn/scikit-learn/issues/21755 */display: inline-block !important;position: relative;}#sk-container-id-1 div.sk-text-repr-fallback {display: none;}</style><div id=\"sk-container-id-1\" class=\"sk-top-container\"><div class=\"sk-text-repr-fallback\"><pre>LinearRegression()</pre><b>In a Jupyter environment, please rerun this cell to show the HTML representation or trust the notebook. <br />On GitHub, the HTML representation is unable to render, please try loading this page with nbviewer.org.</b></div><div class=\"sk-container\" hidden><div class=\"sk-item\"><div class=\"sk-estimator sk-toggleable\"><input class=\"sk-toggleable__control sk-hidden--visually\" id=\"sk-estimator-id-1\" type=\"checkbox\" checked><label for=\"sk-estimator-id-1\" class=\"sk-toggleable__label sk-toggleable__label-arrow\">LinearRegression</label><div class=\"sk-toggleable__content\"><pre>LinearRegression()</pre></div></div></div></div></div>"
      ],
      "text/plain": [
       "LinearRegression()"
      ]
     },
     "execution_count": 34,
     "metadata": {},
     "output_type": "execute_result"
    }
   ],
   "source": [
    "##FITTING THE DATA INTO MODEL\n",
    "## Using scikit learn library to fit the model\n",
    "from sklearn.linear_model import LinearRegression\n",
    "model = LinearRegression()\n",
    "model.fit(X_train,y_train)"
   ]
  },
  {
   "cell_type": "code",
   "execution_count": 35,
   "id": "e2515529",
   "metadata": {},
   "outputs": [
    {
     "name": "stdout",
     "output_type": "stream",
     "text": [
      "the intercept value is - -3343.086020992796\n"
     ]
    }
   ],
   "source": [
    "##calculating the intercept\n",
    "c = model.intercept_\n",
    "print(\"the intercept value is -\",c)"
   ]
  },
  {
   "cell_type": "code",
   "execution_count": 36,
   "id": "de4c46bf",
   "metadata": {},
   "outputs": [
    {
     "name": "stdout",
     "output_type": "stream",
     "text": [
      "the coefficient is - [-1.23425514e+02 -2.10464385e-02  3.70601128e+01 -6.00746104e-02\n",
      "  7.61880868e+00  3.91803058e+02  6.95585251e+00  1.50548279e+01]\n"
     ]
    }
   ],
   "source": [
    "##calculating the coefficient\n",
    "m = model.coef_\n",
    "print(\"the coefficient is -\",m)\n"
   ]
  },
  {
   "cell_type": "markdown",
   "id": "504568d6",
   "metadata": {},
   "source": [
    "# Testing the Dataset"
   ]
  },
  {
   "cell_type": "code",
   "execution_count": 37,
   "id": "a2a30bd1",
   "metadata": {
    "collapsed": true
   },
   "outputs": [
    {
     "data": {
      "text/plain": [
       "array([ 9063.1482734 ,  9042.30560779,  7696.31185014, 17013.56979863,\n",
       "        6367.74539556, 10650.14524134, 11935.41670692,  7694.12665008,\n",
       "       11092.2838678 , 14389.8483321 ,  9431.09199534, 10274.91605204,\n",
       "       10505.15314686, 10468.14335952, 12063.83289015, 10411.46861981,\n",
       "        7688.69666895,  4812.68041181,  9912.36350845, 17226.3399603 ,\n",
       "       17441.87169104,  8595.06176977, 12478.03232453,  6296.16611274,\n",
       "        8459.45681286,  8931.67210767, 10502.9896479 ,  8238.5079755 ,\n",
       "        8821.158361  ,  8841.29121519, 11948.13644705,  8136.84135994,\n",
       "        9437.64538369,  8517.58373523, 10307.03851177,  9145.43788226,\n",
       "       14343.55146477,  7674.05309021, 11627.47950612,  9639.55041822,\n",
       "        8754.24579431,  9649.05084411, 11051.51438401, 10568.08346909,\n",
       "        9904.49922316,  8075.6344094 ,  8271.46793661,  8512.65498151,\n",
       "        7880.7614412 ,  6885.55204968,  9434.07850824, 16387.52438663,\n",
       "        7845.84190974, 11319.8942054 ,  8660.46021581,  9892.78116596,\n",
       "       10402.47927147, 18180.13028174,  6759.0570837 , 10263.08530496,\n",
       "        8492.58930949, 12380.86069023,  8743.22261659, 17979.63472435,\n",
       "        8728.1323202 , 13611.71183349, 12483.03956959, 18149.09861309,\n",
       "        7272.5756863 , 11692.5629944 ,  9954.75301572,  7519.89838018,\n",
       "        7239.73753137, 12733.55785787,  9914.00723829,  6036.32954777,\n",
       "       15722.80502427, 16602.13146982,  7558.70997576, 18982.11135064,\n",
       "       11911.44414726, 10716.1492932 ,  7659.55000032,  7759.99615031,\n",
       "        7362.78246983,  5860.8143282 , 16426.85419924, 10838.29112501,\n",
       "        9489.65378182, 12233.9052579 , 14841.40048625, 10943.21989005,\n",
       "        8130.73320692,  6022.26321851,  7494.34145364,  8236.47217613,\n",
       "       11888.26308509,  8188.73321079, 11083.50261395, 13328.68803067,\n",
       "        8752.80388612, 12993.27102622, 11242.05425198, 15284.60916947,\n",
       "       11941.07556475,  8949.94811244, 11580.15756797, 16536.23847544,\n",
       "        7520.88687716, 14788.81783865,  8562.36499581,  7330.39317348,\n",
       "        7919.78921207, 11236.65554123, 11151.38021412, 11580.89189022,\n",
       "        6149.57536566, 13601.7004327 , 14166.81267334, 14009.01049347,\n",
       "       10289.59071698, 13546.88339206,  8818.23922842, 14501.53292776,\n",
       "        6276.72219781,  6142.13056178, 20128.59326459,  8496.32684683,\n",
       "       10824.78445838, 17387.71278436, 13946.20240927, 13406.89156796,\n",
       "       10659.76857735,  7637.48483195, 15620.95525534, 10343.36489525,\n",
       "        8604.3866391 , 12319.91043226,  4266.99123753,  7464.03778577,\n",
       "       10157.39567945, 16131.10328204, 15466.21743692,  7654.33340427,\n",
       "        8124.74667822,  9672.03368648,  9649.80263824, 11440.95896111,\n",
       "       10712.24861082,  8586.15387315, 17068.90933705, 13042.14341948,\n",
       "       15829.66668711,  8174.30182748,  7462.94016744, 20832.10716475,\n",
       "        8704.23276498, 15503.79504439,  5212.07467915,  7405.28491485,\n",
       "        6644.40438533,  7125.39761502, 16425.62880519, 16945.977587  ,\n",
       "       13559.32172295,  9836.18494562,  8090.43135861, 12822.11627491,\n",
       "        8854.73675387,  6104.09930943,  7494.78342885, 10052.16639872,\n",
       "       10092.36435082,  6344.18178475,  7544.91490663, 16551.89392537,\n",
       "        8798.53655847,  7529.22626185,  4476.48483746,  7950.51701225,\n",
       "        8758.48381973, 10144.29736809, 18044.54603534, 13525.4132619 ,\n",
       "       12296.01553121,  7446.677593  ,  7404.97829959,  8099.69439603,\n",
       "        9748.35522324,  5784.64197004, 13624.64426736, 13476.7378778 ,\n",
       "        7597.65351599,  9802.94629562,  5527.93291707, 11005.30873221,\n",
       "       10203.46532533,  9420.71870566, 16056.80855294, 10415.51992881,\n",
       "        9889.25456318, 13352.70883643,  8234.07567783,  6264.62439726,\n",
       "        9296.02654784,  9383.17455225,  8432.15591035, 12753.00200806,\n",
       "        8813.6364229 , 10099.45521085, 14471.79419249, 10851.61547775,\n",
       "        8370.99231148,  8395.86897615,  9766.54727664, 11647.53039416,\n",
       "        8220.81570943,  7837.27922727,  5803.38124626, 17534.04532335,\n",
       "        7592.73634346, 13705.15904537, 10335.79805706, 19215.26973151,\n",
       "        7706.79040829,  9397.81159317, 12675.54887736, 14210.83848784,\n",
       "        8079.26820119, 10138.53682785,  6766.42360511,  8184.96515039,\n",
       "       14668.22087453, 10945.63965834,  8496.49604525, 13134.55024253,\n",
       "        7974.10109875,  8017.91105494,  9313.97116971, 14203.05199174,\n",
       "       11419.0253956 ,  8694.97311479, 11724.86299646, 10473.03743977,\n",
       "        8404.56213426, 16012.39531589,  8058.16451977,  7202.66888861,\n",
       "       16861.53644286,  6613.74203307,  7488.73885387, 12037.8006415 ,\n",
       "       11216.8953563 , 17285.14094304,  5481.37073758, 13709.33014177,\n",
       "       12915.10446818, 11990.42200539,  7706.18304133,  9278.36912212,\n",
       "        7813.86589621,  7996.25966848, 14226.90680542, 10913.05716709,\n",
       "        8142.86076596, 16522.94897387, 11180.16384016, 13572.69635988,\n",
       "       12415.35024562,  8706.22645332,  9257.95354064, 13092.1776232 ,\n",
       "        9325.76251675,  9472.41243227, 10635.86242773,  7781.39995224,\n",
       "       16707.13457033,  8849.34231539, 16926.85548644,  9642.40353496,\n",
       "       12092.13379967,  9614.13161785, 11617.51264771,  5791.62283738,\n",
       "        8498.28805272,  7459.94562008, 23066.55690218,  6934.50883884,\n",
       "        8166.7882634 , 11479.64034715, 10103.56487683,  8066.52567916,\n",
       "        6903.21145137,  7257.11992397,  6568.26037725,  7581.06976724,\n",
       "        8972.98533097, 12383.47416317, 13047.54816744, 11428.9774403 ,\n",
       "       15430.07325726, 10281.53992338,  8618.57696392,  7159.61855056,\n",
       "        5308.10794899,  8664.63634361,  9157.3657889 , 12912.54056194,\n",
       "       10102.00650036, 12071.23116829,  9916.08320289,  6820.0433842 ,\n",
       "        6522.95368043,  9732.81040305, 10674.28797124, 14818.3686205 ,\n",
       "       10638.38368237, 17886.94935505,  8085.6354193 ,  7036.75061521,\n",
       "       13687.20226255, 13084.05680232, 16576.35908577,  9570.9298299 ,\n",
       "       15964.35809894,  7767.73078787,  9046.34889908,  8328.24998916,\n",
       "        7831.96856095,  7449.05228095, 16992.37218757, 14171.74144152,\n",
       "       11981.31800703, 10670.77021989, 11123.06772471,  9988.78052208,\n",
       "       21266.55292009, 15689.27149754, 14763.35682707,  8259.90300454,\n",
       "        9669.79675479,  7309.73673282, 13973.76232276, 10831.39084712,\n",
       "        8207.78017532,  9313.67322946, 13222.31389098, 10060.73825105,\n",
       "       17979.53702193, 10548.01539353, 10889.77060725,  8103.582734  ,\n",
       "       13412.07164048, 10223.38592759, 10562.69028352, 10704.99997812,\n",
       "        7977.97485948, 12551.94511207, 11666.90758442, 11014.93615349,\n",
       "        9655.32600401,  7631.35459503,  9650.7839542 ,  8228.88697984,\n",
       "       11237.39409199,  7433.2313692 , 16371.2251989 ,  7426.36652682,\n",
       "        8093.88604918, 11123.13772002, 16933.09406637,  5901.49156669,\n",
       "       18243.8435805 , 12848.19784027,  8816.54018448, 11005.05724418,\n",
       "       12598.40588129, 12098.07476477, 13105.34322556, 18009.89748105,\n",
       "       13975.65052132,  8220.32350709, 11689.47559046,  5174.62279837,\n",
       "       12650.06451689, 10051.62195351,  7637.6905555 ,  6348.16036023,\n",
       "        8533.19421168,  7578.03670348,  8559.76194069,  6334.3865608 ,\n",
       "        7731.46901283,  9323.08306883, 10179.52699847,  9687.36822782,\n",
       "        9953.88790371,  9615.73784563, 18692.15675929, 17025.97534978,\n",
       "        6666.26987215,  6185.49474035, 13045.38522179,  7565.40078017,\n",
       "       12478.12264361, 13292.48047974, 19714.0854204 ,  7668.68852446,\n",
       "        8092.41558843, 13187.31101513,  7025.50019279,  9940.06272913,\n",
       "        8358.5897401 ,  8668.40262964, 13928.92156126,  6762.48997481,\n",
       "        8225.02019511,  7934.48796433,  6216.57079102, 18596.32681318,\n",
       "       15686.98713173, 10573.36109986, 17115.67192014,  9460.65569117,\n",
       "       18394.86960502, 11606.28736209, 10407.36976331,  9764.77336174,\n",
       "       10939.79502944,  7216.96744675,  6715.90455185])"
      ]
     },
     "execution_count": 37,
     "metadata": {},
     "output_type": "execute_result"
    }
   ],
   "source": [
    "##testing the data\n",
    "y_pred = model.predict(X_test)\n",
    "y_pred"
   ]
  },
  {
   "cell_type": "code",
   "execution_count": 38,
   "id": "a254bf03",
   "metadata": {
    "collapsed": true
   },
   "outputs": [
    {
     "data": {
      "text/html": [
       "<div>\n",
       "<style scoped>\n",
       "    .dataframe tbody tr th:only-of-type {\n",
       "        vertical-align: middle;\n",
       "    }\n",
       "\n",
       "    .dataframe tbody tr th {\n",
       "        vertical-align: top;\n",
       "    }\n",
       "\n",
       "    .dataframe thead th {\n",
       "        text-align: right;\n",
       "    }\n",
       "</style>\n",
       "<table border=\"1\" class=\"dataframe\">\n",
       "  <thead>\n",
       "    <tr style=\"text-align: right;\">\n",
       "      <th></th>\n",
       "      <th>Predicted</th>\n",
       "    </tr>\n",
       "  </thead>\n",
       "  <tbody>\n",
       "    <tr>\n",
       "      <th>0</th>\n",
       "      <td>9063.148273</td>\n",
       "    </tr>\n",
       "    <tr>\n",
       "      <th>1</th>\n",
       "      <td>9042.305608</td>\n",
       "    </tr>\n",
       "    <tr>\n",
       "      <th>2</th>\n",
       "      <td>7696.311850</td>\n",
       "    </tr>\n",
       "    <tr>\n",
       "      <th>3</th>\n",
       "      <td>17013.569799</td>\n",
       "    </tr>\n",
       "    <tr>\n",
       "      <th>4</th>\n",
       "      <td>6367.745396</td>\n",
       "    </tr>\n",
       "    <tr>\n",
       "      <th>...</th>\n",
       "      <td>...</td>\n",
       "    </tr>\n",
       "    <tr>\n",
       "      <th>426</th>\n",
       "      <td>10407.369763</td>\n",
       "    </tr>\n",
       "    <tr>\n",
       "      <th>427</th>\n",
       "      <td>9764.773362</td>\n",
       "    </tr>\n",
       "    <tr>\n",
       "      <th>428</th>\n",
       "      <td>10939.795029</td>\n",
       "    </tr>\n",
       "    <tr>\n",
       "      <th>429</th>\n",
       "      <td>7216.967447</td>\n",
       "    </tr>\n",
       "    <tr>\n",
       "      <th>430</th>\n",
       "      <td>6715.904552</td>\n",
       "    </tr>\n",
       "  </tbody>\n",
       "</table>\n",
       "<p>431 rows × 1 columns</p>\n",
       "</div>"
      ],
      "text/plain": [
       "        Predicted\n",
       "0     9063.148273\n",
       "1     9042.305608\n",
       "2     7696.311850\n",
       "3    17013.569799\n",
       "4     6367.745396\n",
       "..            ...\n",
       "426  10407.369763\n",
       "427   9764.773362\n",
       "428  10939.795029\n",
       "429   7216.967447\n",
       "430   6715.904552\n",
       "\n",
       "[431 rows x 1 columns]"
      ]
     },
     "execution_count": 38,
     "metadata": {},
     "output_type": "execute_result"
    }
   ],
   "source": [
    "##making the Dataframe of the Actual and Predicted Values and its difference\n",
    "colm = pd.DataFrame(y_pred,columns = ['Predicted'])\n",
    "colm"
   ]
  },
  {
   "cell_type": "code",
   "execution_count": 40,
   "id": "7938cc51",
   "metadata": {},
   "outputs": [],
   "source": [
    "colm['Actual'] = y_test.values\n"
   ]
  },
  {
   "cell_type": "code",
   "execution_count": 46,
   "id": "80e26b10",
   "metadata": {
    "scrolled": true
   },
   "outputs": [],
   "source": [
    "colm['Difference'] =y_test.values - y_pred"
   ]
  },
  {
   "cell_type": "code",
   "execution_count": 65,
   "id": "583ffc4d",
   "metadata": {},
   "outputs": [
    {
     "data": {
      "text/html": [
       "<div>\n",
       "<style scoped>\n",
       "    .dataframe tbody tr th:only-of-type {\n",
       "        vertical-align: middle;\n",
       "    }\n",
       "\n",
       "    .dataframe tbody tr th {\n",
       "        vertical-align: top;\n",
       "    }\n",
       "\n",
       "    .dataframe thead th {\n",
       "        text-align: right;\n",
       "    }\n",
       "</style>\n",
       "<table border=\"1\" class=\"dataframe\">\n",
       "  <thead>\n",
       "    <tr style=\"text-align: right;\">\n",
       "      <th></th>\n",
       "      <th>Predicted</th>\n",
       "    </tr>\n",
       "  </thead>\n",
       "  <tbody>\n",
       "    <tr>\n",
       "      <th>0</th>\n",
       "      <td>9034.194475</td>\n",
       "    </tr>\n",
       "    <tr>\n",
       "      <th>1</th>\n",
       "      <td>9002.858319</td>\n",
       "    </tr>\n",
       "    <tr>\n",
       "      <th>2</th>\n",
       "      <td>7752.568070</td>\n",
       "    </tr>\n",
       "    <tr>\n",
       "      <th>3</th>\n",
       "      <td>16959.275230</td>\n",
       "    </tr>\n",
       "    <tr>\n",
       "      <th>4</th>\n",
       "      <td>6370.465393</td>\n",
       "    </tr>\n",
       "    <tr>\n",
       "      <th>...</th>\n",
       "      <td>...</td>\n",
       "    </tr>\n",
       "    <tr>\n",
       "      <th>642</th>\n",
       "      <td>7962.477169</td>\n",
       "    </tr>\n",
       "    <tr>\n",
       "      <th>643</th>\n",
       "      <td>10627.189988</td>\n",
       "    </tr>\n",
       "    <tr>\n",
       "      <th>644</th>\n",
       "      <td>7287.307446</td>\n",
       "    </tr>\n",
       "    <tr>\n",
       "      <th>645</th>\n",
       "      <td>8599.829146</td>\n",
       "    </tr>\n",
       "    <tr>\n",
       "      <th>646</th>\n",
       "      <td>11592.860546</td>\n",
       "    </tr>\n",
       "  </tbody>\n",
       "</table>\n",
       "<p>647 rows × 1 columns</p>\n",
       "</div>"
      ],
      "text/plain": [
       "        Predicted\n",
       "0     9034.194475\n",
       "1     9002.858319\n",
       "2     7752.568070\n",
       "3    16959.275230\n",
       "4     6370.465393\n",
       "..            ...\n",
       "642   7962.477169\n",
       "643  10627.189988\n",
       "644   7287.307446\n",
       "645   8599.829146\n",
       "646  11592.860546\n",
       "\n",
       "[647 rows x 1 columns]"
      ]
     },
     "execution_count": 65,
     "metadata": {},
     "output_type": "execute_result"
    }
   ],
   "source": [
    "##Table of Actual nd Predicted value with difference\n",
    "colm"
   ]
  },
  {
   "cell_type": "code",
   "execution_count": 49,
   "id": "45265cd9",
   "metadata": {},
   "outputs": [],
   "source": [
    "##importing scikit learn for using r2_score and MSE\n",
    "\n",
    "from sklearn.metrics import r2_score,mean_absolute_error, mean_squared_error\n",
    "from math import sqrt"
   ]
  },
  {
   "cell_type": "code",
   "execution_count": 50,
   "id": "80284c75",
   "metadata": {},
   "outputs": [
    {
     "data": {
      "text/plain": [
       "1270.1799559550473"
      ]
     },
     "execution_count": 50,
     "metadata": {},
     "output_type": "execute_result"
    }
   ],
   "source": [
    "sqrt(mean_squared_error(colm['Actual'],colm['Predicted']))"
   ]
  },
  {
   "cell_type": "markdown",
   "id": "30af4d9c",
   "metadata": {},
   "source": [
    "Ploting the Graph of predicted values"
   ]
  },
  {
   "cell_type": "code",
   "execution_count": 52,
   "id": "583035a8",
   "metadata": {},
   "outputs": [
    {
     "data": {
      "text/plain": [
       "Text(0.5, 1.0, 'Actual vs predicted')"
      ]
     },
     "execution_count": 52,
     "metadata": {},
     "output_type": "execute_result"
    },
    {
     "data": {
      "image/png": "[encoded data removed]",
      "text/plain": [
       "<Figure size 640x480 with 1 Axes>"
      ]
     },
     "metadata": {},
     "output_type": "display_data"
    }
   ],
   "source": [
    "##for ploting graph using matplotlib\n",
    "\n",
    "import matplotlib.pyplot as plt\n",
    "plt.scatter(y_test,y_pred)\n",
    "plt.xlabel('Actual')\n",
    "plt.ylabel('predicted')\n",
    "plt.title('Actual vs predicted')"
   ]
  },
  {
   "cell_type": "markdown",
   "id": "81530260",
   "metadata": {},
   "source": [
    "# Evaluating the Model "
   ]
  },
  {
   "cell_type": "code",
   "execution_count": 53,
   "id": "c032ca49",
   "metadata": {},
   "outputs": [
    {
     "data": {
      "text/plain": [
       "0.8695766816254169"
      ]
     },
     "execution_count": 53,
     "metadata": {},
     "output_type": "execute_result"
    }
   ],
   "source": [
    "## calculating the r2-score by using scikitlearn.metrics library\n",
    "r2 = r2_score(y_test,y_pred)\n",
    "r2\n"
   ]
  },
  {
   "cell_type": "markdown",
   "id": "f2403bec",
   "metadata": {},
   "source": [
    "# Taking other test size=55% to train the model"
   ]
  },
  {
   "cell_type": "code",
   "execution_count": 69,
   "id": "42e4f4bd",
   "metadata": {},
   "outputs": [],
   "source": [
    "##using scikit learn library for spliting the data\n",
    "from sklearn.model_selection import train_test_split\n",
    "# TAKING THE TEST SIZE 40% OF THE DATASET\n",
    "X_train,X_test,y_train,y_test = train_test_split(X,y,test_size = 0.55,random_state = 23)"
   ]
  },
  {
   "cell_type": "code",
   "execution_count": 70,
   "id": "9a328fbc",
   "metadata": {},
   "outputs": [
    {
     "data": {
      "text/html": [
       "<style>#sk-container-id-4 {color: black;background-color: white;}#sk-container-id-4 pre{padding: 0;}#sk-container-id-4 div.sk-toggleable {background-color: white;}#sk-container-id-4 label.sk-toggleable__label {cursor: pointer;display: block;width: 100%;margin-bottom: 0;padding: 0.3em;box-sizing: border-box;text-align: center;}#sk-container-id-4 label.sk-toggleable__label-arrow:before {content: \"▸\";float: left;margin-right: 0.25em;color: #696969;}#sk-container-id-4 label.sk-toggleable__label-arrow:hover:before {color: black;}#sk-container-id-4 div.sk-estimator:hover label.sk-toggleable__label-arrow:before {color: black;}#sk-container-id-4 div.sk-toggleable__content {max-height: 0;max-width: 0;overflow: hidden;text-align: left;background-color: #f0f8ff;}#sk-container-id-4 div.sk-toggleable__content pre {margin: 0.2em;color: black;border-radius: 0.25em;background-color: #f0f8ff;}#sk-container-id-4 input.sk-toggleable__control:checked~div.sk-toggleable__content {max-height: 200px;max-width: 100%;overflow: auto;}#sk-container-id-4 input.sk-toggleable__control:checked~label.sk-toggleable__label-arrow:before {content: \"▾\";}#sk-container-id-4 div.sk-estimator input.sk-toggleable__control:checked~label.sk-toggleable__label {background-color: #d4ebff;}#sk-container-id-4 div.sk-label input.sk-toggleable__control:checked~label.sk-toggleable__label {background-color: #d4ebff;}#sk-container-id-4 input.sk-hidden--visually {border: 0;clip: rect(1px 1px 1px 1px);clip: rect(1px, 1px, 1px, 1px);height: 1px;margin: -1px;overflow: hidden;padding: 0;position: absolute;width: 1px;}#sk-container-id-4 div.sk-estimator {font-family: monospace;background-color: #f0f8ff;border: 1px dotted black;border-radius: 0.25em;box-sizing: border-box;margin-bottom: 0.5em;}#sk-container-id-4 div.sk-estimator:hover {background-color: #d4ebff;}#sk-container-id-4 div.sk-parallel-item::after {content: \"\";width: 100%;border-bottom: 1px solid gray;flex-grow: 1;}#sk-container-id-4 div.sk-label:hover label.sk-toggleable__label {background-color: #d4ebff;}#sk-container-id-4 div.sk-serial::before {content: \"\";position: absolute;border-left: 1px solid gray;box-sizing: border-box;top: 0;bottom: 0;left: 50%;z-index: 0;}#sk-container-id-4 div.sk-serial {display: flex;flex-direction: column;align-items: center;background-color: white;padding-right: 0.2em;padding-left: 0.2em;position: relative;}#sk-container-id-4 div.sk-item {position: relative;z-index: 1;}#sk-container-id-4 div.sk-parallel {display: flex;align-items: stretch;justify-content: center;background-color: white;position: relative;}#sk-container-id-4 div.sk-item::before, #sk-container-id-4 div.sk-parallel-item::before {content: \"\";position: absolute;border-left: 1px solid gray;box-sizing: border-box;top: 0;bottom: 0;left: 50%;z-index: -1;}#sk-container-id-4 div.sk-parallel-item {display: flex;flex-direction: column;z-index: 1;position: relative;background-color: white;}#sk-container-id-4 div.sk-parallel-item:first-child::after {align-self: flex-end;width: 50%;}#sk-container-id-4 div.sk-parallel-item:last-child::after {align-self: flex-start;width: 50%;}#sk-container-id-4 div.sk-parallel-item:only-child::after {width: 0;}#sk-container-id-4 div.sk-dashed-wrapped {border: 1px dashed gray;margin: 0 0.4em 0.5em 0.4em;box-sizing: border-box;padding-bottom: 0.4em;background-color: white;}#sk-container-id-4 div.sk-label label {font-family: monospace;font-weight: bold;display: inline-block;line-height: 1.2em;}#sk-container-id-4 div.sk-label-container {text-align: center;}#sk-container-id-4 div.sk-container {/* jupyter's `normalize.less` sets `[hidden] { display: none; }` but bootstrap.min.css set `[hidden] { display: none !important; }` so we also need the `!important` here to be able to override the default hidden behavior on the sphinx rendered scikit-learn.org. See: https://github.com/scikit-learn/scikit-learn/issues/21755 */display: inline-block !important;position: relative;}#sk-container-id-4 div.sk-text-repr-fallback {display: none;}</style><div id=\"sk-container-id-4\" class=\"sk-top-container\"><div class=\"sk-text-repr-fallback\"><pre>LinearRegression()</pre><b>In a Jupyter environment, please rerun this cell to show the HTML representation or trust the notebook. <br />On GitHub, the HTML representation is unable to render, please try loading this page with nbviewer.org.</b></div><div class=\"sk-container\" hidden><div class=\"sk-item\"><div class=\"sk-estimator sk-toggleable\"><input class=\"sk-toggleable__control sk-hidden--visually\" id=\"sk-estimator-id-4\" type=\"checkbox\" checked><label for=\"sk-estimator-id-4\" class=\"sk-toggleable__label sk-toggleable__label-arrow\">LinearRegression</label><div class=\"sk-toggleable__content\"><pre>LinearRegression()</pre></div></div></div></div></div>"
      ],
      "text/plain": [
       "LinearRegression()"
      ]
     },
     "execution_count": 70,
     "metadata": {},
     "output_type": "execute_result"
    }
   ],
   "source": [
    "##FITTING THE DATA INTO MODEL\n",
    "## Using scikit learn library to fit the model\n",
    "from sklearn.linear_model import LinearRegression\n",
    "model1 = LinearRegression()\n",
    "model1.fit(X_train,y_train)"
   ]
  },
  {
   "cell_type": "code",
   "execution_count": 71,
   "id": "937d0cb9",
   "metadata": {
    "collapsed": true
   },
   "outputs": [
    {
     "data": {
      "text/plain": [
       "array([ 9084.05836873,  9070.7377974 ,  7785.43882717, 17121.1277066 ,\n",
       "        6408.96746834, 10606.73642264, 11971.18203128,  7695.02261372,\n",
       "       11082.00575175, 14342.36297306,  9473.4247459 , 10331.28839852,\n",
       "       10394.06915988, 10455.21480993, 12018.92038584, 10533.98244866,\n",
       "        7689.47355534,  4703.55962365,  9900.64228948, 17236.50947048,\n",
       "       17341.82311016,  8608.03408136, 12452.38272679,  6254.62858927,\n",
       "        8350.4688796 ,  8930.62184794, 10468.99672883,  8276.10392169,\n",
       "        8821.22840604,  8870.73143038, 11898.98278349,  8148.69532257,\n",
       "        9506.91255477,  8526.89076325, 10307.90479737,  9161.34437043,\n",
       "       14312.91130612,  7734.99171661, 11671.33154126,  9699.84992979,\n",
       "        8790.7073751 ,  9585.30700292, 11109.62697298, 10569.49247077,\n",
       "        9900.48099891,  8274.45763767,  8244.12192127,  8578.58844809,\n",
       "        7933.74726062,  6969.01611708,  9418.47177173, 16391.97759632,\n",
       "        7831.48768054, 11286.70758759,  8685.9348817 ,  9958.63392347,\n",
       "       10414.04441597, 18243.95918795,  6748.37759289, 10310.26797222,\n",
       "        8512.24467806, 12360.76094654,  8791.88674687, 17869.84838744,\n",
       "        8776.4655265 , 13584.13265278, 12506.21358475, 18139.31777913,\n",
       "        7259.76209312, 11651.20006406,  9988.36589856,  7541.73551409,\n",
       "        7256.38192378, 12667.55197164,  9963.01269039,  6031.30032858,\n",
       "       15700.79754468, 16536.53237243,  7572.50954885, 18972.73767113,\n",
       "       11923.59499647, 10690.79893992,  7668.61794808,  7787.09852938,\n",
       "        7322.30981401,  5904.31496529, 16437.35178776, 10792.49177228,\n",
       "        9568.99171144, 12215.04796005, 14865.3175768 , 10956.46356982,\n",
       "        8149.05629571,  6121.46188029,  7529.01348839,  8375.29729208,\n",
       "       11857.84441085,  8227.46106721, 11080.08705325, 13274.0883512 ,\n",
       "        8713.68778028, 13036.56444276, 11235.20079133, 15232.53705206,\n",
       "       11880.07568918,  9012.98540124, 11546.24707834, 16430.51999683,\n",
       "        7524.92676947, 14790.18467223,  8463.96636115,  7393.63523311,\n",
       "        7934.56409851, 11201.64353381, 11147.72020144, 11619.25716025,\n",
       "        6177.08282379, 13559.47019254, 14127.83158792, 13929.41437936,\n",
       "       10364.14534442, 13492.87396428,  8812.53069234, 14542.15177586,\n",
       "        6324.87840518,  6083.1029741 , 20152.30491171,  8539.57665462,\n",
       "       10815.21178321, 17400.26480415, 13918.34891753, 13360.17596166,\n",
       "       10715.65034531,  7661.90058828, 15626.45839149, 10379.1749454 ,\n",
       "        8659.8459072 , 12290.79328658,  4284.47022686,  7464.35311334,\n",
       "       10111.83588198, 16109.11937918, 15392.58147492,  7738.07469338,\n",
       "        8141.98741443,  9706.80252249,  9645.71892129, 11469.58297149,\n",
       "       10751.96845985,  8654.60865791, 16961.47675722, 12990.19017057,\n",
       "       15756.05799117,  8162.68547102,  7496.92358492, 20761.37266971,\n",
       "        8747.57674598, 15542.23817464,  5022.7799093 ,  7447.88528267,\n",
       "        6588.17799416,  7144.29807548, 16430.99551463, 16852.19795004,\n",
       "       13520.41396504,  9899.51793633,  8165.87562453, 12762.57678742,\n",
       "        8788.93550793,  6148.469968  ,  7529.46515593, 10203.84017682,\n",
       "       10215.09133246,  6315.55733071,  7597.12291928, 16534.67267001,\n",
       "        8826.08811119,  7612.35570522,  4489.62769929,  7965.96574668,\n",
       "        8817.24404675, 10198.35298783, 17888.937286  , 13476.83166961,\n",
       "       12305.7945254 ,  7459.8565932 ,  7339.50292556,  8110.73374105,\n",
       "        9820.35329669,  5808.61170709, 13506.06243077, 13420.91975256,\n",
       "        7750.36388641,  9831.37030649,  5447.22276669, 11002.91055003,\n",
       "       10147.41444734,  9398.21591876, 15967.36708112, 10399.1102087 ,\n",
       "        9950.56486585, 13309.27014307,  8255.74273694,  6290.18971534,\n",
       "        9371.11831202,  9442.31696464,  8392.80858388, 12789.77697619,\n",
       "        8834.78939193, 10107.87628153, 14422.89020235, 10885.46134893,\n",
       "        8321.37345669,  8403.31703059,  9838.56201279, 11584.10377579,\n",
       "        8178.96355791,  7823.45399632,  5854.55263534, 17448.6966516 ,\n",
       "        7643.91256176, 13656.05408614, 10302.10675792, 19092.39429998,\n",
       "        7651.53611528,  9403.73512768, 12612.79522725, 14069.46884313,\n",
       "        8096.761061  , 10239.75609606,  6740.04059683,  8203.56800557,\n",
       "       14722.62566268, 10925.32193419,  8562.98467079, 13170.7621704 ,\n",
       "        7986.85135243,  8055.13451948,  9289.12745334, 14155.93538383,\n",
       "       11478.16199898,  8687.81085148, 11721.63331901, 10516.44172219,\n",
       "        8520.2826863 , 16017.55233546,  8123.9709514 ,  7249.71465359,\n",
       "       16860.17090669,  6629.1444381 ,  7464.42372336, 12058.43700231,\n",
       "       11198.06103993, 17198.79901871,  5525.4805689 , 13637.99106344,\n",
       "       12851.43507162, 12056.34534803,  7706.62662232,  9202.03126563,\n",
       "        7848.8381848 ,  7895.7351586 , 14175.84820584, 10956.63297783,\n",
       "        8092.70419828, 16421.40417987, 11223.8826244 , 13435.11485548,\n",
       "       12429.56348836,  8786.24461608,  9332.21037946, 13051.9558235 ,\n",
       "        9392.57614266,  9436.39846593, 10626.61188819,  7863.46264047,\n",
       "       16617.12532579,  8796.81812535, 16863.99022056,  9707.23073211,\n",
       "       12061.23727635,  9691.73417722, 11543.24806888,  5829.14101569,\n",
       "        8484.84634486,  7482.58011457, 23088.13992171,  6965.83421086,\n",
       "        8189.41607216, 11435.31209483, 10085.85694141,  8095.88500657,\n",
       "        6895.88787376,  7267.33732071,  6643.71158849,  7559.28290194,\n",
       "        8991.91819013, 12303.89241919, 13059.52658615, 11413.54454878,\n",
       "       15426.92531195, 10265.00276926,  8626.35038827,  7105.76035791,\n",
       "        5253.90137415,  8742.4638174 ,  9176.95463014, 12939.4187911 ,\n",
       "       10028.71675335, 12094.34618339,  9894.26387162,  6889.95415488,\n",
       "        6572.04452484,  9755.01055921, 10721.55790772, 14821.17840233,\n",
       "       10641.13187797, 17800.40948748,  8169.90474805,  7084.62297874,\n",
       "       13635.99953454, 13037.22557627, 16555.2092234 ,  9634.18963815,\n",
       "       15859.49387306,  7830.72372757,  9040.28639756,  8367.81394073,\n",
       "        7879.4608074 ,  7476.83247621, 16975.88020318, 14110.54285244,\n",
       "       11997.2528323 , 10572.24838287, 11118.20501572, 10043.3431522 ,\n",
       "       21099.15131742, 15679.92399524, 14715.13211959,  8302.43325281,\n",
       "        9666.15150057,  7359.17200419, 13934.29606626, 10797.67123563,\n",
       "        8244.70227352,  9335.61211594, 13260.45043949, 10043.34059323,\n",
       "       17900.28734154, 10562.77208521, 10937.30087122,  8170.38516835,\n",
       "       13374.39986685, 10235.48874676, 10546.12054326, 10697.26559657,\n",
       "        7989.03850824, 12560.28141189, 11637.83027218, 11008.28397878,\n",
       "        9646.89829429,  7692.2663788 ,  9656.1490482 ,  8319.48423916,\n",
       "       11339.75873447,  7516.58909969, 16266.35316504,  7485.089159  ,\n",
       "        8123.84537823, 11161.11163989, 16927.18580479,  5880.11005243,\n",
       "       18152.45167686, 12783.06120893,  8905.61585485, 11052.61680089,\n",
       "       12660.33426168, 12118.78346442, 13045.84568656, 18008.58627307,\n",
       "       13941.40756449,  8176.33078332, 11649.37308422,  5189.68018428,\n",
       "       12588.0014531 , 10076.85453218,  7679.64702694,  6384.48782335,\n",
       "        8548.02546326,  7613.11059187,  8635.28956203,  6326.96337328,\n",
       "        7728.00198685,  9403.23328927, 10173.66456473,  9756.36796504,\n",
       "        9950.75808556,  9691.08376604, 18637.87800715, 17129.34018848,\n",
       "        6728.11930286,  6145.99535719, 13008.81568992,  7588.23576295,\n",
       "       12368.68545482, 13234.32564963, 19811.36499054,  7619.08414268,\n",
       "        8136.68909505, 13215.7497292 ,  7004.42178305,  9989.6395674 ,\n",
       "        8368.87521322,  8707.04943425, 13884.00684744,  6795.75760978,\n",
       "        8167.01833971,  7925.79043191,  6245.5889839 , 18604.12741524,\n",
       "       15689.47320182, 10622.88286954, 17113.76751566,  9517.0321151 ,\n",
       "       18306.07286551, 11600.45736984, 10453.51364965,  9699.10214977,\n",
       "       10881.92420784,  7155.43665595,  6767.97728151,  7062.43031104,\n",
       "       17420.95135972, 13540.31236499,  8616.44508858,  8138.74684255,\n",
       "       10379.01204317, 11225.87561485,  9032.7940461 , 10813.34305821,\n",
       "       17874.50325575, 11158.58331894,  7276.0617226 ,  9150.00649238,\n",
       "       10947.47598167, 16915.09440863,  8921.90256618,  7458.61023512,\n",
       "       11457.31261334,  9059.22510858,  7952.50210442,  6742.49168626,\n",
       "        8242.46901082,  8201.74344847,  8158.86265798, 15811.72420454,\n",
       "        6379.45721037, 10332.58260187, 13536.13409022, 16742.52989797,\n",
       "       11944.88403902,  8017.72499171, 13209.66539787,  9351.15321008,\n",
       "       11742.28262707, 10201.44453108, 12191.4159068 ,  9317.0829349 ,\n",
       "        8701.14122534, 10408.97878157, 18261.71984866, 10325.6633677 ,\n",
       "       10848.19256643, 14375.68488732, 12899.33095942,  8239.14985364,\n",
       "        6422.33473339, 12062.77096219,  8232.53022997,  9225.62509112,\n",
       "       17828.22688382, 16245.87780196, 14787.97366407, 12271.73251956,\n",
       "       14082.1396395 ,  9749.42682636,  5080.31658966,  7591.89925084,\n",
       "       10266.60053852,  8573.28548968,  8871.35872631,  8703.67786098,\n",
       "       13769.27021224,  7871.49583583, 10510.62157945,  8586.52966896,\n",
       "       10296.23304987,  9653.73658563, 11861.95658357, 10499.57507156,\n",
       "       10588.67901023,  8446.22855454,  9245.03609803, 12726.67176465,\n",
       "        8782.69246026, 18942.96722911,  7990.37052243,  8995.75797623,\n",
       "       10392.81100358,  6544.32430674,  9443.76433398, 10981.67896184,\n",
       "       10109.91656634, 10749.98664337, 14928.13072546, 15891.808707  ,\n",
       "        8397.8272794 ,  8288.40673519,  7902.50949243, 18115.25051713,\n",
       "        7304.17612603,  7997.34971489, 17565.07646392, 12858.58653097,\n",
       "       11219.56901813, 16205.48558674,  8674.89641606,  9012.3902436 ,\n",
       "        7510.21194965, 12987.83325003, 11452.45537606,  6948.18833026,\n",
       "        8444.88988806,  8071.882194  ,  8235.50562142, 10968.14676457,\n",
       "       11312.12272383,  8214.48466208, 11114.65750581,  6798.84903838,\n",
       "        8201.77208805, 11752.12104789,  8324.47263296, 11322.05080958,\n",
       "       11108.35824395, 11523.00120207, 10291.61217106, 16157.02076349,\n",
       "       10180.94763091, 22542.68043962, 13449.51130907,  8339.03153873,\n",
       "        8592.17583082, 11618.40702756, 19982.71662231, 16115.48454867,\n",
       "       10528.96232775,  7172.47447433,  8075.26587512,  7364.95419649,\n",
       "        9068.62859047, 11726.31719145, 13349.22296383,  8999.51050643,\n",
       "        8932.94351697, 12298.41372308, 18180.27304638, 19995.54333885,\n",
       "       10721.53558903, 18610.43738954, 10979.15010196, 15962.02586734,\n",
       "       10580.4081784 , 12988.06631766, 10978.4703552 ,  8540.17782892,\n",
       "       13983.64718977,  8178.79443573, 10363.39969678,  6134.34516532,\n",
       "        9763.73943562, 10171.8888542 , 19844.39767926, 12661.43902915,\n",
       "       12218.85487219,  9379.97591073, 11792.93594572,  8655.55597846,\n",
       "        7245.03405277,  6551.9761622 , 10542.85982109,  7296.02489645,\n",
       "       10624.41224932, 10158.33662106,  8613.51772563,  5856.37248857,\n",
       "       13387.34877991,  9694.20367682, 10807.93578492, 12844.26025077,\n",
       "       11111.97354265,  9084.17544342,  8611.46008785, 10786.35420124,\n",
       "       11649.32706211, 16797.68015459, 17474.92289518,  8720.74795088,\n",
       "        7775.98713417, 10403.47370866,  9536.57332575,  9710.90859638,\n",
       "        8467.48924759, 12033.00969304,  7637.04885842, 10092.82485527,\n",
       "       11385.03709352, 12334.1027037 ,  8743.04948635, 10277.66509098,\n",
       "       13485.13731499, 12095.59786392, 21658.632976  , 13002.86143418,\n",
       "        7536.26869668, 12768.04054023,  6277.62017826,  8156.46969415,\n",
       "        7933.34553757,  9583.08668195,  7198.52178221, 13423.10101541,\n",
       "       10957.42721104, 15569.15722642, 12344.21587438,  5789.29612369,\n",
       "       10933.85335675,  9253.66094633,  9610.02512914, 12520.05424787,\n",
       "        6997.75214161,  6979.0543739 ,  8007.97118019, 10702.68807618,\n",
       "        7160.05829765,  8537.30735852, 11550.86449064, 13315.98222335,\n",
       "       10911.39802069,  9191.14319076, 10329.89660155, 11544.19974366,\n",
       "        6190.32686606, 19292.44085304,  8666.58937636, 13372.14509494,\n",
       "       12891.07393969,  9956.87840768,  9598.48740116, 10974.0649345 ,\n",
       "        6121.91486094, 16283.49502366, 10297.31640049, 18298.50879101,\n",
       "       10397.88566404,  8324.66820169,  7556.35735138,  9286.47210456,\n",
       "       14683.40785175,  8557.56442138,  7162.18992935,  7712.17160394,\n",
       "        9511.14237237, 10685.55099324,  7490.61792051, 19045.94742872,\n",
       "       11075.12511553,  9059.35098842,  8454.09338864, 11373.96409622,\n",
       "        7842.36342705, 16117.92259276,  7389.6250586 ,  9071.74782441,\n",
       "       15639.07609775,  9874.32136452,  9770.31475218, 10641.20687017,\n",
       "        8531.67823576,  9405.48460857,  6919.87511406, 11450.38194276,\n",
       "       14439.22420947, 11325.8592395 , 10160.94877699,  7847.17724102,\n",
       "       11125.38641153, 11180.60550108, 13959.248489  ,  5686.27637796,\n",
       "       20356.61571105,  8875.79058093, 10867.62298666,  8110.79725816,\n",
       "       16314.53851315, 15217.38020235, 17179.86449764,  7953.72782027,\n",
       "       13249.82006133,  8131.46642521, 16571.18664625,  7034.1889851 ,\n",
       "        6073.92212225,  7269.13247586, 11429.17728313, 11304.6462384 ,\n",
       "       10469.43514931, 18368.62218556,  9464.49898062, 10456.38789087,\n",
       "       11508.11862064, 19029.41363954, 10391.4856637 , 10639.83363529,\n",
       "        7212.98259263,  9655.95571208,  8225.71795147, 11853.38917146,\n",
       "        9316.56396765,  7546.39113923,  8275.98466718,  9309.33313544,\n",
       "       13015.68624066,  7769.4047992 , 11469.99512518,  9690.24992367,\n",
       "        9636.2212887 ,  5473.88191197,  9471.59029247,  8454.7705834 ,\n",
       "       12969.51694312,  9436.91235431, 13475.92624662, 12039.02445959,\n",
       "       10398.41470861, 14379.97329533,  8030.63411902, 11031.22562521,\n",
       "        9574.91723935, 13455.27197712,  6994.34535185, 10134.76875247,\n",
       "       16154.44715447, 14171.93143374, 16053.54921401,  9719.97454528,\n",
       "       12150.62910973, 10587.7550463 ,  8025.84669927,  7959.8114389 ,\n",
       "       11403.02126158,  7575.04056173,  9418.8256344 , 10872.82091374,\n",
       "       13061.35661782,  9273.24468446,  7604.60342546, 10078.06325063,\n",
       "       13701.37038938,  7606.21640132, 13353.64110209,  7590.04827616,\n",
       "        9612.80097993,  9998.67801002, 10282.68944934,  9327.24856453,\n",
       "       11456.15677831, 19883.16710126, 13155.9911141 ,  9659.73398465,\n",
       "       10375.00596343,  8844.95060807,  6319.56961355, 11445.22727278,\n",
       "        9245.71218383,  9772.35931982,  6935.93444218,  7296.60421426,\n",
       "       11124.79942926, 16897.11065236])"
      ]
     },
     "execution_count": 71,
     "metadata": {},
     "output_type": "execute_result"
    }
   ],
   "source": [
    "##Testing the data\n",
    "\n",
    "y_pred1 = model1.predict(X_test)\n",
    "y_pred1"
   ]
  },
  {
   "cell_type": "code",
   "execution_count": 72,
   "id": "de5beca5",
   "metadata": {
    "collapsed": true
   },
   "outputs": [
    {
     "data": {
      "text/html": [
       "<div>\n",
       "<style scoped>\n",
       "    .dataframe tbody tr th:only-of-type {\n",
       "        vertical-align: middle;\n",
       "    }\n",
       "\n",
       "    .dataframe tbody tr th {\n",
       "        vertical-align: top;\n",
       "    }\n",
       "\n",
       "    .dataframe thead th {\n",
       "        text-align: right;\n",
       "    }\n",
       "</style>\n",
       "<table border=\"1\" class=\"dataframe\">\n",
       "  <thead>\n",
       "    <tr style=\"text-align: right;\">\n",
       "      <th></th>\n",
       "      <th>Predicted</th>\n",
       "    </tr>\n",
       "  </thead>\n",
       "  <tbody>\n",
       "    <tr>\n",
       "      <th>0</th>\n",
       "      <td>9084.058369</td>\n",
       "    </tr>\n",
       "    <tr>\n",
       "      <th>1</th>\n",
       "      <td>9070.737797</td>\n",
       "    </tr>\n",
       "    <tr>\n",
       "      <th>2</th>\n",
       "      <td>7785.438827</td>\n",
       "    </tr>\n",
       "    <tr>\n",
       "      <th>3</th>\n",
       "      <td>17121.127707</td>\n",
       "    </tr>\n",
       "    <tr>\n",
       "      <th>4</th>\n",
       "      <td>6408.967468</td>\n",
       "    </tr>\n",
       "    <tr>\n",
       "      <th>...</th>\n",
       "      <td>...</td>\n",
       "    </tr>\n",
       "    <tr>\n",
       "      <th>785</th>\n",
       "      <td>9772.359320</td>\n",
       "    </tr>\n",
       "    <tr>\n",
       "      <th>786</th>\n",
       "      <td>6935.934442</td>\n",
       "    </tr>\n",
       "    <tr>\n",
       "      <th>787</th>\n",
       "      <td>7296.604214</td>\n",
       "    </tr>\n",
       "    <tr>\n",
       "      <th>788</th>\n",
       "      <td>11124.799429</td>\n",
       "    </tr>\n",
       "    <tr>\n",
       "      <th>789</th>\n",
       "      <td>16897.110652</td>\n",
       "    </tr>\n",
       "  </tbody>\n",
       "</table>\n",
       "<p>790 rows × 1 columns</p>\n",
       "</div>"
      ],
      "text/plain": [
       "        Predicted\n",
       "0     9084.058369\n",
       "1     9070.737797\n",
       "2     7785.438827\n",
       "3    17121.127707\n",
       "4     6408.967468\n",
       "..            ...\n",
       "785   9772.359320\n",
       "786   6935.934442\n",
       "787   7296.604214\n",
       "788  11124.799429\n",
       "789  16897.110652\n",
       "\n",
       "[790 rows x 1 columns]"
      ]
     },
     "execution_count": 72,
     "metadata": {},
     "output_type": "execute_result"
    }
   ],
   "source": [
    "## making the other table for actual and predicted\n",
    "colm = pd.DataFrame(y_pred1,columns = ['Predicted'])\n",
    "colm"
   ]
  },
  {
   "cell_type": "code",
   "execution_count": 74,
   "id": "e8c555ed",
   "metadata": {},
   "outputs": [],
   "source": [
    "colm['Actual'] =y_test.values"
   ]
  },
  {
   "cell_type": "markdown",
   "id": "447d7517",
   "metadata": {},
   "source": [
    "predicted values"
   ]
  },
  {
   "cell_type": "code",
   "execution_count": 75,
   "id": "31f364b9",
   "metadata": {
    "collapsed": true
   },
   "outputs": [
    {
     "data": {
      "text/html": [
       "<div>\n",
       "<style scoped>\n",
       "    .dataframe tbody tr th:only-of-type {\n",
       "        vertical-align: middle;\n",
       "    }\n",
       "\n",
       "    .dataframe tbody tr th {\n",
       "        vertical-align: top;\n",
       "    }\n",
       "\n",
       "    .dataframe thead th {\n",
       "        text-align: right;\n",
       "    }\n",
       "</style>\n",
       "<table border=\"1\" class=\"dataframe\">\n",
       "  <thead>\n",
       "    <tr style=\"text-align: right;\">\n",
       "      <th></th>\n",
       "      <th>Predicted</th>\n",
       "      <th>Actual</th>\n",
       "    </tr>\n",
       "  </thead>\n",
       "  <tbody>\n",
       "    <tr>\n",
       "      <th>0</th>\n",
       "      <td>9084.058369</td>\n",
       "      <td>8990</td>\n",
       "    </tr>\n",
       "    <tr>\n",
       "      <th>1</th>\n",
       "      <td>9070.737797</td>\n",
       "      <td>8950</td>\n",
       "    </tr>\n",
       "    <tr>\n",
       "      <th>2</th>\n",
       "      <td>7785.438827</td>\n",
       "      <td>7499</td>\n",
       "    </tr>\n",
       "    <tr>\n",
       "      <th>3</th>\n",
       "      <td>17121.127707</td>\n",
       "      <td>13950</td>\n",
       "    </tr>\n",
       "    <tr>\n",
       "      <th>4</th>\n",
       "      <td>6408.967468</td>\n",
       "      <td>7450</td>\n",
       "    </tr>\n",
       "    <tr>\n",
       "      <th>...</th>\n",
       "      <td>...</td>\n",
       "      <td>...</td>\n",
       "    </tr>\n",
       "    <tr>\n",
       "      <th>785</th>\n",
       "      <td>9772.359320</td>\n",
       "      <td>9500</td>\n",
       "    </tr>\n",
       "    <tr>\n",
       "      <th>786</th>\n",
       "      <td>6935.934442</td>\n",
       "      <td>6950</td>\n",
       "    </tr>\n",
       "    <tr>\n",
       "      <th>787</th>\n",
       "      <td>7296.604214</td>\n",
       "      <td>7950</td>\n",
       "    </tr>\n",
       "    <tr>\n",
       "      <th>788</th>\n",
       "      <td>11124.799429</td>\n",
       "      <td>11700</td>\n",
       "    </tr>\n",
       "    <tr>\n",
       "      <th>789</th>\n",
       "      <td>16897.110652</td>\n",
       "      <td>16868</td>\n",
       "    </tr>\n",
       "  </tbody>\n",
       "</table>\n",
       "<p>790 rows × 2 columns</p>\n",
       "</div>"
      ],
      "text/plain": [
       "        Predicted  Actual\n",
       "0     9084.058369    8990\n",
       "1     9070.737797    8950\n",
       "2     7785.438827    7499\n",
       "3    17121.127707   13950\n",
       "4     6408.967468    7450\n",
       "..            ...     ...\n",
       "785   9772.359320    9500\n",
       "786   6935.934442    6950\n",
       "787   7296.604214    7950\n",
       "788  11124.799429   11700\n",
       "789  16897.110652   16868\n",
       "\n",
       "[790 rows x 2 columns]"
      ]
     },
     "execution_count": 75,
     "metadata": {},
     "output_type": "execute_result"
    }
   ],
   "source": [
    "##table with predicted and actual values\n",
    "colm"
   ]
  },
  {
   "cell_type": "markdown",
   "id": "1738ab2b",
   "metadata": {},
   "source": [
    "# ploting graph of actual vs predicted"
   ]
  },
  {
   "cell_type": "code",
   "execution_count": 78,
   "id": "c652658d",
   "metadata": {},
   "outputs": [
    {
     "data": {
      "text/plain": [
       "Text(0.5, 1.0, 'Actual vs predicted')"
      ]
     },
     "execution_count": 78,
     "metadata": {},
     "output_type": "execute_result"
    },
    {
     "data": {
      "image/png": "[encoded data removed]",
      "text/plain": [
       "<Figure size 640x480 with 1 Axes>"
      ]
     },
     "metadata": {},
     "output_type": "display_data"
    }
   ],
   "source": [
    "import matplotlib.pyplot as plt\n",
    "plt.scatter(y_test,y_pred1)\n",
    "plt.xlabel('Actual')\n",
    "plt.ylabel('predicted')\n",
    "plt.title('Actual vs predicted')"
   ]
  },
  {
   "cell_type": "code",
   "execution_count": 73,
   "id": "d1c085b8",
   "metadata": {},
   "outputs": [
    {
     "name": "stdout",
     "output_type": "stream",
     "text": [
      "the strength of the model is - 0.85966906140971\n"
     ]
    }
   ],
   "source": [
    "r2=r2_score(y_test,y_pred1)\n",
    "print(\"the strength of the model is -\",r2)"
   ]
  },
  {
   "cell_type": "markdown",
   "id": "c09942d8",
   "metadata": {},
   "source": [
    "saving the model"
   ]
  },
  {
   "cell_type": "code",
   "execution_count": 79,
   "id": "eb6e2cfc",
   "metadata": {},
   "outputs": [],
   "source": [
    "##using joblib to save the model\n",
    "import joblib "
   ]
  },
  {
   "cell_type": "code",
   "execution_count": 82,
   "id": "ff0d3b18",
   "metadata": {},
   "outputs": [
    {
     "data": {
      "text/plain": [
       "['toyoto_reg_model.sav']"
      ]
     },
     "execution_count": 82,
     "metadata": {},
     "output_type": "execute_result"
    }
   ],
   "source": [
    "filename = 'toyoto_reg_model.sav'\n",
    "joblib.dump(model,filename)"
   ]
  },
  {
   "cell_type": "code",
   "execution_count": null,
   "id": "0d04024d",
   "metadata": {},
   "outputs": [],
   "source": []
  }
 ],
 "metadata": {
  "kernelspec": {
   "display_name": "Python 3 (ipykernel)",
   "language": "python",
   "name": "python3"
  },
  "language_info": {
   "codemirror_mode": {
    "name": "ipython",
    "version": 3
   },
   "file_extension": ".py",
   "mimetype": "text/x-python",
   "name": "python",
   "nbconvert_exporter": "python",
   "pygments_lexer": "ipython3",
   "version": "3.11.3"
  }
 },
 "nbformat": 4,
 "nbformat_minor": 5
}
